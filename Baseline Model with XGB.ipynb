{
 "cells": [
  {
   "cell_type": "code",
   "execution_count": 39,
   "id": "4110cafb-fa75-4372-8ab0-983d3a88c5fd",
   "metadata": {},
   "outputs": [],
   "source": [
    "from datetime import datetime\n",
    "import numpy as np\n",
    "import pandas as pd\n",
    "import matplotlib.pyplot as plt\n",
    "import gc\n",
    "\n",
    "from xgboost import XGBRegressor\n",
    "import gresearch_crypto\n",
    "env = gresearch_crypto.make_env()\n",
    "iter_test = env.iter_test()"
   ]
  },
  {
   "cell_type": "code",
   "execution_count": 48,
   "id": "a1ab83e7-eb80-4a38-b4f8-ce2afdb952d4",
   "metadata": {},
   "outputs": [],
   "source": [
    "def add_time_features(df):\n",
    "    df = df.assign(ds = df.index.values.astype('datetime64[s]'))\n",
    "    \n",
    "    df = df.assign(month = df['ds'].dt.month)\n",
    "    df = df.assign(dayofweek = df['ds'].dt.dayofweek)\n",
    "    df = df.assign(dayofmonth = df['ds'].dt.day)\n",
    "    df = df.assign(dayofyear = df['ds'].dt.dayofyear)\n",
    "    \n",
    "    df = df.assign(hour = df['ds'].dt.hour)\n",
    "    df = df.assign(minute = df['ds'].dt.minute)\n",
    "    \n",
    "    return df\n",
    "\n",
    "def plot_ts(df, c='Target', n_cols = 4):\n",
    "    assets = df.Asset_ID.unique()\n",
    "    n_rows = int(np.ceil(len(assets) / n_cols))\n",
    "    f, ax = plt.subplots(n_rows, n_cols, figsize=(20,10))\n",
    "    i, j = 0, 0\n",
    "    for asset in assets:\n",
    "        asset_name = asset_details_df[asset_details_df.Asset_ID == asset].Asset_Name.iloc[0]\n",
    "        sub_df = df[df.Asset_ID == asset]\n",
    "        ax[i][j].plot(sub_df[c], label=asset_name)\n",
    "        ax[i][j].legend()\n",
    "        \n",
    "        j += 1\n",
    "        j = j % n_cols\n",
    "        if j == 0:\n",
    "            i += 1"
   ]
  },
  {
   "cell_type": "code",
   "execution_count": 45,
   "id": "1b0372d6-c846-490f-b3e4-2fb837a25eb3",
   "metadata": {},
   "outputs": [],
   "source": [
    "folder = \"C:/Users/minho/kaggle dataset/g-research-crypto-forecasting/input/\"\n",
    "train_df = pd.read_csv(folder + 'train.csv')\n",
    "asset_details_df = pd.read_csv(folder + 'asset_details.csv')\n",
    "example_test_df = pd.read_csv(folder + 'example_test.csv')"
   ]
  },
  {
   "cell_type": "code",
   "execution_count": 46,
   "id": "8853a3dd-ed84-47fd-aaba-681c7eee3970",
   "metadata": {},
   "outputs": [
    {
     "data": {
      "text/html": [
       "<div>\n",
       "<style scoped>\n",
       "    .dataframe tbody tr th:only-of-type {\n",
       "        vertical-align: middle;\n",
       "    }\n",
       "\n",
       "    .dataframe tbody tr th {\n",
       "        vertical-align: top;\n",
       "    }\n",
       "\n",
       "    .dataframe thead th {\n",
       "        text-align: right;\n",
       "    }\n",
       "</style>\n",
       "<table border=\"1\" class=\"dataframe\">\n",
       "  <thead>\n",
       "    <tr style=\"text-align: right;\">\n",
       "      <th></th>\n",
       "      <th>timestamp</th>\n",
       "      <th>Asset_ID</th>\n",
       "      <th>Count</th>\n",
       "      <th>Open</th>\n",
       "      <th>High</th>\n",
       "      <th>Low</th>\n",
       "      <th>Close</th>\n",
       "      <th>Volume</th>\n",
       "      <th>VWAP</th>\n",
       "      <th>group_num</th>\n",
       "      <th>row_id</th>\n",
       "    </tr>\n",
       "  </thead>\n",
       "  <tbody>\n",
       "    <tr>\n",
       "      <th>0</th>\n",
       "      <td>1623542400</td>\n",
       "      <td>3</td>\n",
       "      <td>1201.0</td>\n",
       "      <td>1.478556</td>\n",
       "      <td>1.48603</td>\n",
       "      <td>1.478</td>\n",
       "      <td>1.483681</td>\n",
       "      <td>654799.561103</td>\n",
       "      <td>1.481439</td>\n",
       "      <td>0</td>\n",
       "      <td>0</td>\n",
       "    </tr>\n",
       "  </tbody>\n",
       "</table>\n",
       "</div>"
      ],
      "text/plain": [
       "    timestamp  Asset_ID   Count      Open     High    Low     Close  \\\n",
       "0  1623542400         3  1201.0  1.478556  1.48603  1.478  1.483681   \n",
       "\n",
       "          Volume      VWAP  group_num  row_id  \n",
       "0  654799.561103  1.481439          0       0  "
      ]
     },
     "execution_count": 46,
     "metadata": {},
     "output_type": "execute_result"
    }
   ],
   "source": [
    "example_test_df.head(1)"
   ]
  },
  {
   "cell_type": "code",
   "execution_count": 49,
   "id": "b5bba14d-7a51-4460-bdc6-fcb2392d33e8",
   "metadata": {},
   "outputs": [],
   "source": [
    "cutoff_ds = '2021-09-01'\n",
    "train_df = train_df.set_index('timestamp')\n",
    "train_df = train_df.assign(ds=train_df.index.values.astype('datetime64[s]'))\n",
    "train_df = train_df[train_df.ds > cutoff_ds]\n",
    "train_df = add_time_features(train_df)"
   ]
  },
  {
   "cell_type": "code",
   "execution_count": 50,
   "id": "12c839d9-b0d8-457d-a8f2-348ee2de71f9",
   "metadata": {},
   "outputs": [
    {
     "name": "stderr",
     "output_type": "stream",
     "text": [
      "C:\\Users\\minho\\miniconda3\\envs\\cook\\lib\\site-packages\\ipykernel_launcher.py:1: DeprecationWarning: `np.float` is a deprecated alias for the builtin `float`. To silence this warning, use `float` by itself. Doing this will not modify any behavior and is safe. If you specifically wanted the numpy scalar type, use `np.float64` here.\n",
      "Deprecated in NumPy 1.20; for more details and guidance: https://numpy.org/devdocs/release/1.20.0-notes.html#deprecations\n",
      "  \"\"\"Entry point for launching an IPython kernel.\n",
      "C:\\Users\\minho\\miniconda3\\envs\\cook\\lib\\site-packages\\ipykernel_launcher.py:2: DeprecationWarning: `np.float` is a deprecated alias for the builtin `float`. To silence this warning, use `float` by itself. Doing this will not modify any behavior and is safe. If you specifically wanted the numpy scalar type, use `np.float64` here.\n",
      "Deprecated in NumPy 1.20; for more details and guidance: https://numpy.org/devdocs/release/1.20.0-notes.html#deprecations\n",
      "  \n"
     ]
    },
    {
     "data": {
      "text/plain": [
       "XGBRegressor(base_score=0.5, booster='gbtree', colsample_bylevel=1,\n",
       "             colsample_bynode=1, colsample_bytree=1, enable_categorical=False,\n",
       "             gamma=0, gpu_id=-1, importance_type=None,\n",
       "             interaction_constraints='', learning_rate=0.300000012,\n",
       "             max_delta_step=0, max_depth=6, min_child_weight=1, missing=nan,\n",
       "             monotone_constraints='()', n_estimators=100, n_jobs=8,\n",
       "             num_parallel_tree=1, predictor='auto', random_state=0, reg_alpha=0,\n",
       "             reg_lambda=1, scale_pos_weight=1, subsample=1, tree_method='exact',\n",
       "             validate_parameters=1, verbosity=None)"
      ]
     },
     "execution_count": 50,
     "metadata": {},
     "output_type": "execute_result"
    }
   ],
   "source": [
    "X = train_df[(~train_df.Target.isna()) & (train_df.VWAP != np.float('inf'))].drop(['ds', 'Target'], axis = 1)\n",
    "y = train_df[(~train_df.Target.isna()) & (train_df.VWAP != np.float('inf'))]['Target']\n",
    "\n",
    "model = XGBRegressor()\n",
    "model.fit(X, y)"
   ]
  },
  {
   "cell_type": "code",
   "execution_count": null,
   "id": "e7dd8889-dcbd-441a-9b1e-35481012d935",
   "metadata": {},
   "outputs": [],
   "source": [
    "for (test_df, sample_prediction) in iter_test:\n",
    "    test_df = test_df.set_index('timestamp')\n",
    "    test_df = test_df.assign(ds = test_df.index.values.astype('datetime64[s]'))\n",
    "    test_df = add_time_features(test_df)\n",
    "    sample_prediction_df['Target'] = model.predict(test_df.drop(['ds', 'row_id'], axis = 1))\n",
    "    env.predict(sample_prediction_df)"
   ]
  },
  {
   "cell_type": "code",
   "execution_count": null,
   "id": "e0fa7ee5-38c4-4fd3-83a8-c48fbd2a934f",
   "metadata": {},
   "outputs": [],
   "source": []
  },
  {
   "cell_type": "code",
   "execution_count": null,
   "id": "0dfc62c6-e844-40b5-a5d0-2b8e4a119c2b",
   "metadata": {},
   "outputs": [],
   "source": []
  },
  {
   "cell_type": "code",
   "execution_count": null,
   "id": "500d02a7-c3b4-4fa0-b86b-eac2384946f7",
   "metadata": {},
   "outputs": [],
   "source": []
  },
  {
   "cell_type": "code",
   "execution_count": null,
   "id": "29e87bad-c8d4-4300-9114-d8118098e938",
   "metadata": {},
   "outputs": [],
   "source": []
  },
  {
   "cell_type": "code",
   "execution_count": null,
   "id": "a4e2009f-5cab-4857-aa84-d62144eeef28",
   "metadata": {},
   "outputs": [],
   "source": []
  },
  {
   "cell_type": "code",
   "execution_count": null,
   "id": "a380f234-8a5f-499e-9df0-740abe46d31d",
   "metadata": {},
   "outputs": [],
   "source": []
  },
  {
   "cell_type": "code",
   "execution_count": null,
   "id": "567bc4ce-3d2c-460a-8738-33eea341704b",
   "metadata": {},
   "outputs": [],
   "source": []
  },
  {
   "cell_type": "code",
   "execution_count": null,
   "id": "b1135fb4-2676-4be6-84e6-6764ea58f101",
   "metadata": {},
   "outputs": [],
   "source": []
  },
  {
   "cell_type": "code",
   "execution_count": null,
   "id": "306637c0-58ff-45e5-bfd2-50f4e2c416ff",
   "metadata": {},
   "outputs": [],
   "source": []
  },
  {
   "cell_type": "code",
   "execution_count": null,
   "id": "f75fa982-c54f-4b6e-a005-1f76f05f45af",
   "metadata": {},
   "outputs": [],
   "source": []
  },
  {
   "cell_type": "code",
   "execution_count": null,
   "id": "a65fbdea-bb42-4d1e-8b5b-dc9c399dca86",
   "metadata": {},
   "outputs": [],
   "source": []
  }
 ],
 "metadata": {
  "jupytext": {
   "formats": "ipynb,auto:light"
  },
  "kernelspec": {
   "display_name": "cook",
   "language": "python",
   "name": "cook"
  },
  "language_info": {
   "codemirror_mode": {
    "name": "ipython",
    "version": 3
   },
   "file_extension": ".py",
   "mimetype": "text/x-python",
   "name": "python",
   "nbconvert_exporter": "python",
   "pygments_lexer": "ipython3",
   "version": "3.7.11"
  }
 },
 "nbformat": 4,
 "nbformat_minor": 5
}
