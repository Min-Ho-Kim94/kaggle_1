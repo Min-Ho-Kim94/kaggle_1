{
 "cells": [
  {
   "cell_type": "code",
   "execution_count": 66,
   "id": "fa184e83-89f6-46d5-a3c4-c8319c8018e4",
   "metadata": {},
   "outputs": [],
   "source": [
    "import datetime\n",
    "import traceback\n",
    "import numpy as np\n",
    "import pandas as pd\n",
    "import xgboost as xgb"
   ]
  },
  {
   "cell_type": "code",
   "execution_count": 67,
   "id": "fd694fb7-3b4f-4c50-ba93-99150549bf9a",
   "metadata": {},
   "outputs": [
    {
     "data": {
      "text/plain": [
       "((24236806, 10),\n",
       " <bound method DataFrame.info of            timestamp  Asset_ID  Count          Open          High  \\\n",
       " 0         1514764860         2   40.0   2376.580000   2399.500000   \n",
       " 1         1514764860         0    5.0      8.530000      8.530000   \n",
       " 2         1514764860         1  229.0  13835.194000  14013.800000   \n",
       " 3         1514764860         5   32.0      7.659600      7.659600   \n",
       " 4         1514764860         7    5.0     25.920000     25.920000   \n",
       " ...              ...       ...    ...           ...           ...   \n",
       " 24236801  1632182400         9  775.0    157.181571    157.250000   \n",
       " 24236802  1632182400        10   34.0   2437.065067   2438.000000   \n",
       " 24236803  1632182400        13  380.0      0.091390      0.091527   \n",
       " 24236804  1632182400        12  177.0      0.282168      0.282438   \n",
       " 24236805  1632182400        11   48.0    232.695000    232.800000   \n",
       " \n",
       "                    Low         Close        Volume          VWAP    Target  \n",
       " 0          2357.140000   2374.590000  1.923301e+01   2373.116392 -0.004218  \n",
       " 1             8.530000      8.530000  7.838000e+01      8.530000 -0.014399  \n",
       " 2         13666.110000  13850.176000  3.155006e+01  13827.062093 -0.014643  \n",
       " 3             7.656700      7.657600  6.626713e+03      7.657713 -0.013922  \n",
       " 4            25.874000     25.877000  1.210873e+02     25.891363 -0.008264  \n",
       " ...                ...           ...           ...           ...       ...  \n",
       " 24236801    156.700000    156.943857  4.663725e+03    156.994319       NaN  \n",
       " 24236802   2430.226900   2432.907467  3.975460e+00   2434.818747       NaN  \n",
       " 24236803      0.091260      0.091349  2.193732e+06      0.091388       NaN  \n",
       " 24236804      0.281842      0.282051  1.828508e+05      0.282134       NaN  \n",
       " 24236805    232.240000    232.275000  1.035123e+02    232.569697       NaN  \n",
       " \n",
       " [24236806 rows x 10 columns]>)"
      ]
     },
     "execution_count": 67,
     "metadata": {},
     "output_type": "execute_result"
    }
   ],
   "source": [
    "data_folder = \"C:/Users/minho/kaggle dataset/g-research-crypto-forecasting/input/\"\n",
    "df = pd.read_csv(data_folder + 'train.csv')\n",
    "df_asset_details = pd.read_csv(data_folder + 'asset_details.csv')\n",
    "df.shape, df.info"
   ]
  },
  {
   "cell_type": "code",
   "execution_count": 68,
   "id": "c79e02cf-e412-4765-a9d9-be23a155c348",
   "metadata": {},
   "outputs": [
    {
     "data": {
      "text/plain": [
       "array([2.39789527, 4.30406509, 6.77992191, 1.38629436, 2.07944154,\n",
       "       5.89440283, 2.39789527, 1.60943791, 1.79175947, 2.07944154,\n",
       "       4.40671925, 1.09861229, 1.09861229, 3.55534806])"
      ]
     },
     "execution_count": 68,
     "metadata": {},
     "output_type": "execute_result"
    }
   ],
   "source": [
    "asset_to_weight = df_asset_details.Weight.values\n",
    "asset_to_weight"
   ]
  },
  {
   "cell_type": "markdown",
   "id": "e238d609-4847-4b9d-a72d-cfeffc12a883",
   "metadata": {},
   "source": [
    "apply(pd.Series, axis=0)\n",
    "\n",
    "    apply함수는 Series를 객체로 받는다.\n",
    "    axis=0이면 열에 대해 계산을\n",
    "    axis=1이면 행에 대한 계산을 수행한다."
   ]
  },
  {
   "cell_type": "code",
   "execution_count": 69,
   "id": "a32dd493-35cb-47b6-a3c7-bca249d5a8ac",
   "metadata": {},
   "outputs": [],
   "source": [
    "df['Weight'] = df['Asset_ID'].apply(lambda x: asset_to_weight[x])\n",
    "# type(df['Asset_ID'])"
   ]
  },
  {
   "cell_type": "code",
   "execution_count": 70,
   "id": "b200d9b7-891e-4a30-b1ab-d69aaafc3b89",
   "metadata": {},
   "outputs": [
    {
     "data": {
      "text/plain": [
       "2.079441541679836"
      ]
     },
     "execution_count": 70,
     "metadata": {},
     "output_type": "execute_result"
    }
   ],
   "source": [
    "asset_to_weight[4]"
   ]
  },
  {
   "cell_type": "code",
   "execution_count": 71,
   "id": "04f39c6c-e5b1-4feb-8b85-07a58c1e9e16",
   "metadata": {},
   "outputs": [],
   "source": [
    "def clean(df):\n",
    "    df.replace([np.inf, -np.inf], np.nan, inplace=True) #????\n",
    "    df.dropna(how='any', inplace=True)\n",
    "    \n",
    "def test_train_split(df):\n",
    "    X_train = df[df['timestamp'] <= 1623542400].drop('Target', axis=1)\n",
    "    y_train = df[df['timestamp'] <= 1623542400].Target\n",
    "    X_test = df[df['timestamp'] > 1623542400].iloc[:-1].drop('Target', axis=1) # 마지막 행을 제거한다.\n",
    "    y_test = df[df['timestamp'] > 1623542400].iloc[:-1].Target\n",
    "    return X_train, y_train, X_test, y_test\n",
    "\n",
    "clean(df)\n",
    "df = df.loc[pd.to_datetime(df['timestamp'], unit='s').dt.year==2021]\n",
    "\n",
    "X_train, y_train, X_test, y_test = test_train_split(df)"
   ]
  },
  {
   "cell_type": "code",
   "execution_count": 62,
   "id": "350aa088-ebc4-4659-9bc5-61e4d590ded0",
   "metadata": {},
   "outputs": [
    {
     "data": {
      "text/plain": [
       "18935911    2021\n",
       "18935912    2021\n",
       "18935913    2021\n",
       "18935914    2021\n",
       "18935915    2021\n",
       "            ... \n",
       "24236577    2021\n",
       "24236578    2021\n",
       "24236579    2021\n",
       "24236580    2021\n",
       "24236581    2021\n",
       "Name: timestamp, Length: 5298796, dtype: int64"
      ]
     },
     "execution_count": 62,
     "metadata": {},
     "output_type": "execute_result"
    }
   ],
   "source": [
    "(df.replace([np.inf, -np.inf], np.nan, inplace=True) is df)\n",
    "pd.to_datetime(df['timestamp'], unit='s').dt.year"
   ]
  },
  {
   "cell_type": "code",
   "execution_count": 63,
   "id": "8cfd1cc7-fabd-4935-80b6-5a7557fbdba8",
   "metadata": {},
   "outputs": [
    {
     "data": {
      "text/plain": [
       "(   col0  col1  col2\n",
       " 0     1    10   100\n",
       " 1     2    20   200\n",
       " 2     3    30   300\n",
       " 3     4    40   400,\n",
       "    col0  col1  col2\n",
       " 0     1    10   100\n",
       " 1     2    20   200\n",
       " 2     3    30   300)"
      ]
     },
     "execution_count": 63,
     "metadata": {},
     "output_type": "execute_result"
    }
   ],
   "source": [
    "raw_data = {'col0': [1, 2, 3, 4],\n",
    "            'col1': [10, 20, 30, 40],\n",
    "            'col2': [100, 200, 300, 400]}\n",
    "data = pd.DataFrame(raw_data)\n",
    "data, data.iloc[:-1]"
   ]
  },
  {
   "cell_type": "code",
   "execution_count": 72,
   "id": "9c6dbaf0-7e08-497f-b0a4-18f1ffaf3410",
   "metadata": {},
   "outputs": [
    {
     "data": {
      "text/html": [
       "<div>\n",
       "<style scoped>\n",
       "    .dataframe tbody tr th:only-of-type {\n",
       "        vertical-align: middle;\n",
       "    }\n",
       "\n",
       "    .dataframe tbody tr th {\n",
       "        vertical-align: top;\n",
       "    }\n",
       "\n",
       "    .dataframe thead th {\n",
       "        text-align: right;\n",
       "    }\n",
       "</style>\n",
       "<table border=\"1\" class=\"dataframe\">\n",
       "  <thead>\n",
       "    <tr style=\"text-align: right;\">\n",
       "      <th></th>\n",
       "      <th>timestamp</th>\n",
       "      <th>Asset_ID</th>\n",
       "      <th>Count</th>\n",
       "      <th>Open</th>\n",
       "      <th>High</th>\n",
       "      <th>Low</th>\n",
       "      <th>Close</th>\n",
       "      <th>Volume</th>\n",
       "      <th>VWAP</th>\n",
       "      <th>Weight</th>\n",
       "    </tr>\n",
       "  </thead>\n",
       "  <tbody>\n",
       "    <tr>\n",
       "      <th>18935911</th>\n",
       "      <td>1609459260</td>\n",
       "      <td>3</td>\n",
       "      <td>104.0</td>\n",
       "      <td>0.181465</td>\n",
       "      <td>0.181702</td>\n",
       "      <td>0.181270</td>\n",
       "      <td>0.181493</td>\n",
       "      <td>6.134333e+05</td>\n",
       "      <td>0.181527</td>\n",
       "      <td>1.386294</td>\n",
       "    </tr>\n",
       "    <tr>\n",
       "      <th>18935912</th>\n",
       "      <td>1609459260</td>\n",
       "      <td>2</td>\n",
       "      <td>275.0</td>\n",
       "      <td>342.556667</td>\n",
       "      <td>343.500000</td>\n",
       "      <td>342.420000</td>\n",
       "      <td>342.966667</td>\n",
       "      <td>4.199310e+02</td>\n",
       "      <td>342.842188</td>\n",
       "      <td>6.779922</td>\n",
       "    </tr>\n",
       "    <tr>\n",
       "      <th>18935913</th>\n",
       "      <td>1609459260</td>\n",
       "      <td>0</td>\n",
       "      <td>219.0</td>\n",
       "      <td>37.385000</td>\n",
       "      <td>37.422100</td>\n",
       "      <td>37.348700</td>\n",
       "      <td>37.389000</td>\n",
       "      <td>2.749569e+03</td>\n",
       "      <td>37.387059</td>\n",
       "      <td>2.397895</td>\n",
       "    </tr>\n",
       "    <tr>\n",
       "      <th>18935914</th>\n",
       "      <td>1609459260</td>\n",
       "      <td>1</td>\n",
       "      <td>4039.0</td>\n",
       "      <td>28985.511250</td>\n",
       "      <td>29086.900000</td>\n",
       "      <td>28960.000000</td>\n",
       "      <td>29032.387500</td>\n",
       "      <td>1.637870e+02</td>\n",
       "      <td>29017.664870</td>\n",
       "      <td>4.304065</td>\n",
       "    </tr>\n",
       "    <tr>\n",
       "      <th>18935915</th>\n",
       "      <td>1609459260</td>\n",
       "      <td>4</td>\n",
       "      <td>84.0</td>\n",
       "      <td>0.004671</td>\n",
       "      <td>0.004683</td>\n",
       "      <td>0.004668</td>\n",
       "      <td>0.004677</td>\n",
       "      <td>2.202482e+06</td>\n",
       "      <td>0.004675</td>\n",
       "      <td>2.079442</td>\n",
       "    </tr>\n",
       "  </tbody>\n",
       "</table>\n",
       "</div>"
      ],
      "text/plain": [
       "           timestamp  Asset_ID   Count          Open          High  \\\n",
       "18935911  1609459260         3   104.0      0.181465      0.181702   \n",
       "18935912  1609459260         2   275.0    342.556667    343.500000   \n",
       "18935913  1609459260         0   219.0     37.385000     37.422100   \n",
       "18935914  1609459260         1  4039.0  28985.511250  29086.900000   \n",
       "18935915  1609459260         4    84.0      0.004671      0.004683   \n",
       "\n",
       "                   Low         Close        Volume          VWAP    Weight  \n",
       "18935911      0.181270      0.181493  6.134333e+05      0.181527  1.386294  \n",
       "18935912    342.420000    342.966667  4.199310e+02    342.842188  6.779922  \n",
       "18935913     37.348700     37.389000  2.749569e+03     37.387059  2.397895  \n",
       "18935914  28960.000000  29032.387500  1.637870e+02  29017.664870  4.304065  \n",
       "18935915      0.004668      0.004677  2.202482e+06      0.004675  2.079442  "
      ]
     },
     "execution_count": 72,
     "metadata": {},
     "output_type": "execute_result"
    }
   ],
   "source": [
    "X_train.head()"
   ]
  },
  {
   "cell_type": "code",
   "execution_count": 105,
   "id": "0e2e25a4-7be3-4a9f-8c4f-ba6f5b91e8a2",
   "metadata": {},
   "outputs": [],
   "source": [
    "class StupidMean:\n",
    "    def __init__(self):\n",
    "        self.target_median = None # attribute\n",
    "        \n",
    "    def fit(self,X_train, y_train):\n",
    "        self.target_median = y_train.median()\n",
    "        \n",
    "    def predict(self, X_test):\n",
    "        return self.target_median "
   ]
  },
  {
   "cell_type": "code",
   "execution_count": 106,
   "id": "d63d8dee-aa8b-4cf6-a2c3-78233958fd23",
   "metadata": {},
   "outputs": [],
   "source": [
    "features = ['Count', 'Open', 'Close', 'High', 'Low', 'Volume']"
   ]
  },
  {
   "cell_type": "code",
   "execution_count": 107,
   "id": "4b8e994d-7f5c-4de5-9118-bcb94d88d558",
   "metadata": {},
   "outputs": [
    {
     "name": "stdout",
     "output_type": "stream",
     "text": [
      "Trained model for asset 0\n",
      "Trained model for asset 1\n",
      "Trained model for asset 2\n",
      "Trained model for asset 3\n",
      "Trained model for asset 4\n",
      "Trained model for asset 5\n",
      "Trained model for asset 6\n",
      "Trained model for asset 7\n",
      "Trained model for asset 8\n",
      "Trained model for asset 9\n",
      "Trained model for asset 10\n",
      "Trained model for asset 11\n",
      "Trained model for asset 12\n",
      "Trained model for asset 13\n"
     ]
    }
   ],
   "source": [
    "models = [StupidMean() for _ in range(len(df_asset_details))] # _: index가 for문 내에서 굳이 필요하지 않을 경우 사용함.\n",
    "models # list type\n",
    "\n",
    "y_pred = pd.Series(data=np.full_like(y_test.values, np.nan), index=y_test.index) #np.full_like(벡터(array, list, tuple), 채워야하는 값)\n",
    "for asset_ID, model in enumerate(models): #enumerate() : enumerate 객체 반환. 인덱스와 value 값을 포함하는.\n",
    "    X_asset_train = X_train[X_train.Asset_ID==asset_ID]\n",
    "    y_asset_train = y_train[X_train.Asset_ID==asset_ID]\n",
    "    X_asset_test = X_test[X_test.Asset_ID==asset_ID]\n",
    "    \n",
    "    model.fit(X_asset_train[features], y_asset_train)\n",
    "    y_pred[X_test.Asset_ID == asset_ID] = model.predict(X_asset_test[features])\n",
    "    print(f'Trained model for asset {asset_ID}')"
   ]
  },
  {
   "cell_type": "code",
   "execution_count": 108,
   "id": "21c587fa-1dbb-4f8b-801a-384b8d85e508",
   "metadata": {},
   "outputs": [
    {
     "name": "stdout",
     "output_type": "stream",
     "text": [
      "0.00283\n"
     ]
    }
   ],
   "source": [
    "def corr(a, b, w):\n",
    "    cov = lambda x, y: np.sum(w * (x - np.average(x, weights=w)) * (y - np.average(y, weights=w))) / np.sum(w)\n",
    "    return cov(a, b) / np.sqrt(cov(a, a) * cov(b, b))\n",
    "\n",
    "score = corr(y_pred, y_test.values, X_test.Weight)\n",
    "print(f'{score:.5f}')"
   ]
  },
  {
   "cell_type": "code",
   "execution_count": 109,
   "id": "dc7b642b-47b8-4cb8-a578-a82e0af789ac",
   "metadata": {},
   "outputs": [
    {
     "data": {
      "text/plain": [
       "22221708   -0.000143\n",
       "22221709   -0.000194\n",
       "22221710   -0.000037\n",
       "22221711   -0.000138\n",
       "22221712   -0.000251\n",
       "              ...   \n",
       "24236576   -0.000194\n",
       "24236577   -0.000208\n",
       "24236578   -0.000180\n",
       "24236579   -0.000095\n",
       "24236580   -0.000264\n",
       "Length: 2013362, dtype: float64"
      ]
     },
     "execution_count": 109,
     "metadata": {},
     "output_type": "execute_result"
    }
   ],
   "source": [
    "y_pred"
   ]
  },
  {
   "cell_type": "code",
   "execution_count": 111,
   "id": "d6951dc7-bac5-4c6c-b0ae-6a4e5ef69074",
   "metadata": {},
   "outputs": [
    {
     "ename": "AttributeError",
     "evalue": "'StupidMean' object has no attribute 'target_mean'",
     "output_type": "error",
     "traceback": [
      "\u001b[1;31m---------------------------------------------------------------------------\u001b[0m",
      "\u001b[1;31mAttributeError\u001b[0m                            Traceback (most recent call last)",
      "\u001b[1;32m~\\AppData\\Local\\Temp/ipykernel_16496/120329293.py\u001b[0m in \u001b[0;36m<module>\u001b[1;34m\u001b[0m\n\u001b[1;32m----> 1\u001b[1;33m \u001b[0mprint\u001b[0m\u001b[1;33m(\u001b[0m\u001b[0mmodels\u001b[0m\u001b[1;33m[\u001b[0m\u001b[1;36m0\u001b[0m\u001b[1;33m]\u001b[0m\u001b[1;33m.\u001b[0m\u001b[0mtarget_mean\u001b[0m\u001b[1;33m)\u001b[0m\u001b[1;33m\u001b[0m\u001b[1;33m\u001b[0m\u001b[0m\n\u001b[0m",
      "\u001b[1;31mAttributeError\u001b[0m: 'StupidMean' object has no attribute 'target_mean'"
     ]
    }
   ],
   "source": [
    "print(models[0].target_median)"
   ]
  },
  {
   "cell_type": "code",
   "execution_count": null,
   "id": "551de4eb-d342-4b2f-950b-527c7d2aed89",
   "metadata": {},
   "outputs": [],
   "source": []
  },
  {
   "cell_type": "code",
   "execution_count": null,
   "id": "b55e42dc-ed27-4f92-8e76-39b9f356c666",
   "metadata": {},
   "outputs": [],
   "source": []
  },
  {
   "cell_type": "code",
   "execution_count": null,
   "id": "8f3f9d60-1724-4d54-a926-d84de0a74550",
   "metadata": {},
   "outputs": [],
   "source": []
  },
  {
   "cell_type": "code",
   "execution_count": null,
   "id": "b1b034e8-e8b8-4a01-a778-924e08630d6c",
   "metadata": {},
   "outputs": [],
   "source": []
  }
 ],
 "metadata": {
  "jupytext": {
   "formats": "ipynb,auto:light"
  },
  "kernelspec": {
   "display_name": "cook",
   "language": "python",
   "name": "cook"
  },
  "language_info": {
   "codemirror_mode": {
    "name": "ipython",
    "version": 3
   },
   "file_extension": ".py",
   "mimetype": "text/x-python",
   "name": "python",
   "nbconvert_exporter": "python",
   "pygments_lexer": "ipython3",
   "version": "3.7.11"
  }
 },
 "nbformat": 4,
 "nbformat_minor": 5
}
